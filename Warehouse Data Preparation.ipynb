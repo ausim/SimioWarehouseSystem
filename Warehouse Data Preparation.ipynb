{
 "cells": [
  {
   "cell_type": "markdown",
   "id": "3770f397",
   "metadata": {},
   "source": [
    "# Warehouse Data Generation"
   ]
  },
  {
   "cell_type": "code",
   "execution_count": 45,
   "id": "626d931c",
   "metadata": {},
   "outputs": [],
   "source": [
    "# This code is used to generate and prepare synthetic data for the database in SimioWarehouseSystem"
   ]
  },
  {
   "cell_type": "code",
   "execution_count": 46,
   "id": "e4d3c3dd-099d-4d08-9a4a-de50ff12651b",
   "metadata": {},
   "outputs": [],
   "source": [
    "# import associated packages\n",
    "from funcdefinations import *\n",
    "import pyodbc\n",
    "import pandas as pd"
   ]
  },
  {
   "cell_type": "markdown",
   "id": "182ce8a7",
   "metadata": {},
   "source": [
    "### Get Data Generation Parameters"
   ]
  },
  {
   "cell_type": "code",
   "execution_count": 47,
   "id": "2d8eec92",
   "metadata": {},
   "outputs": [],
   "source": [
    "# get the paremeters from excel file\n",
    "# PickerNum --- number of pickers\n",
    "# TransporterNum --- number of transporters\n",
    "# NumOrders --- number of orders\n",
    "# NumSKUs --- number of skus\n",
    "# SKUWeights --- list about sku weighting\n",
    "# LineOrderDist --- distribution for the number of lines in an order\n",
    "# QuantityLineDist --- distribution for the quantity in an order line\n",
    "PickerNum,TransporterNum, NumOrders, NumSKUs, SKUWeights, LineOrderDist, QuantityLineDist = readFromExcel(FileName = 'ParameterSetting.xlsx', SheetName = 'Parameter Setting', SKUWeightsSheet = 'SKU Weights')\n",
    "\n",
    "# get dataframe of the graph representation of the warehouse\n",
    "Nodes = pd.read_csv('Nodes.csv')\n",
    "Arcs = pd.read_csv('Arcs.csv')\n",
    "\n",
    "# get the settings of the graph representation of the warehouse\n",
    "# PickLNum --- number of picking locations\n",
    "# HandOffNum --- number of handoff spots\n",
    "PickLNum = len(Nodes[Nodes['Type']=='MyPickNode'])\n",
    "HandOffNum = len(Nodes[Nodes['Type']=='MyCoopNode'])\n",
    "\n",
    "# picker and pransporter settings\n",
    "V_p = 1    # picker speed (m/s)\n",
    "C_p = 3    # picker capacity(items)\n",
    "Tc_p = 45    # picker place time(s/item)\n",
    "V_t = 2    # transporter speed (m/s)\n",
    "C_t = 6    # transporter capacity(items)\n",
    "Tu_t = 60    # transporter unload time (s/stay)\n"
   ]
  },
  {
   "cell_type": "markdown",
   "id": "2ef346a6",
   "metadata": {},
   "source": [
    "### Generate data"
   ]
  },
  {
   "cell_type": "code",
   "execution_count": 48,
   "id": "48fb7170",
   "metadata": {},
   "outputs": [],
   "source": [
    "# Generate the initial dataframes\n",
    "InitializationParaList = [NumOrders, NumSKUs, PickLNum, SKUWeights, LineOrderDist, QuantityLineDist]\n",
    "[OrderInitial, SKUInitial, LocationInitial, OrderSKUInitial, SKULocationInitial]=dataframesInitialization(InitializationParaList)\n",
    "\n",
    "# Complete the dataframes\n",
    "# Complete the order dataframe\n",
    "FinalOrderParaList = [OrderInitial]\n",
    "OrderTable = completeOrder(FinalOrderParaList)\n",
    "\n",
    "# Complete the sku dataframe\n",
    "FinalSKUParaList = [ SKULocationInitial]\n",
    "SKUTable = completeSKU(FinalSKUParaList)\n",
    "\n",
    "# Complete the order_sku dataframe\n",
    "FinalOrderSKUParaList = [OrderSKUInitial, True]\n",
    "LineItemTable = completeOrderSKU(FinalOrderSKUParaList)"
   ]
  },
  {
   "cell_type": "markdown",
   "id": "c523524e",
   "metadata": {},
   "source": [
    "## Generate Database Tables"
   ]
  },
  {
   "cell_type": "code",
   "execution_count": 49,
   "id": "6ac81157",
   "metadata": {},
   "outputs": [],
   "source": [
    "# connect to the database\n",
    "conn_str = 'DSN=JDATA;database=WarehouseModel;Trusted_Connection=yes;'\n",
    "conn = pyodbc.connect(conn_str)\n",
    "cursor = conn.cursor()"
   ]
  },
  {
   "cell_type": "markdown",
   "id": "ca6376a7",
   "metadata": {},
   "source": [
    "### Nodes"
   ]
  },
  {
   "cell_type": "code",
   "execution_count": 50,
   "id": "d02bb233",
   "metadata": {},
   "outputs": [],
   "source": [
    "# Nodes table contain the all nodes (PickingNodes, HandoffNodes, and transferNodes)\n",
    "# clear existing table\n",
    "cursor.execute(\"TRUNCATE TABLE Nodes;\")\n",
    "cursor.commit()\n",
    "# write new tables\n",
    "for index, row in Nodes.iterrows():\n",
    "    cursor.execute(\"INSERT INTO Nodes (ID, Node, N_xloc, N_zloc, Type) VALUES ({:}, '{:}', {:}, {:},'{:}')\".format(row['ID'], row['Node'], row['N_xloc'], row['N_zloc'], row['Type']) )\n",
    "cursor.commit()"
   ]
  },
  {
   "cell_type": "markdown",
   "id": "7deb393d",
   "metadata": {},
   "source": [
    "### Arcs"
   ]
  },
  {
   "cell_type": "code",
   "execution_count": 51,
   "id": "54d258ff",
   "metadata": {},
   "outputs": [],
   "source": [
    "# clear existing table\n",
    "cursor.execute(\"TRUNCATE TABLE Arcs;\")\n",
    "cursor.commit()\n",
    "# write new tables\n",
    "for index, row in Arcs.iterrows():\n",
    "    cursor.execute(\"INSERT INTO Arcs (Path, HeadNode, TailNode, Type) VALUES ('{:}', '{:}', '{:}', '{:}')\".format(row['Path'], row['HeadNode'], row['TailNode'], row['Type']) )\n",
    "cursor.commit()"
   ]
  },
  {
   "cell_type": "markdown",
   "id": "01e179ba",
   "metadata": {},
   "source": [
    "### Orders"
   ]
  },
  {
   "cell_type": "code",
   "execution_count": 52,
   "id": "f1e75a85-b3d4-475a-8c89-639738cdd17f",
   "metadata": {},
   "outputs": [],
   "source": [
    "# clear existing table\n",
    "cursor.execute(\"TRUNCATE TABLE Orders;\")\n",
    "cursor.commit()\n",
    "# write new tables\n",
    "for index, row in OrderTable.iterrows():\n",
    "    cursor.execute(\"INSERT INTO Orders (OrderID, ReleaseDate, DueDate, Wave, FinalDestination) VALUES ({:}, '{:}', '{:}', {:}, '{:}')\".format(row['OrderID'], row['ReleaseDate'], row['DueDate'], row['Wave'], row['FinalDestination']) )\n",
    "cursor.commit()"
   ]
  },
  {
   "cell_type": "markdown",
   "id": "5473cf27",
   "metadata": {},
   "source": [
    "### SKUs"
   ]
  },
  {
   "cell_type": "code",
   "execution_count": 53,
   "id": "8a3bf4d4-abe2-4a31-aa0e-c2ffc3c554c9",
   "metadata": {},
   "outputs": [],
   "source": [
    "# clear existing table\n",
    "cursor.execute(\"TRUNCATE TABLE Skus;\")\n",
    "cursor.commit()\n",
    "# write new tables\n",
    "for index, row in SKUTable.iterrows():\n",
    "    cursor.execute(\"INSERT INTO Skus (SkuID, PickNodeID, Weight) VALUES ({:}, {:}, {:})\".format(row['SkuID'], row['PickNodeID'], row['Weight']) )\n",
    "cursor.commit()"
   ]
  },
  {
   "cell_type": "markdown",
   "id": "37b0d5b4",
   "metadata": {},
   "source": [
    "### LineItem"
   ]
  },
  {
   "cell_type": "code",
   "execution_count": 54,
   "id": "99fa1030-5870-4299-9ade-b91142e7d78f",
   "metadata": {},
   "outputs": [],
   "source": [
    "# clear existing table\n",
    "cursor.execute(\"TRUNCATE TABLE LineItem;\")\n",
    "cursor.commit()\n",
    "# write new tables\n",
    "for index, row in LineItemTable.iterrows():\n",
    "    cursor.execute(\"INSERT INTO LineItem (ItemID, OrderID, SkuID, Quantity) VALUES ({:}, {:}, {:}, {:})\".format(index+1, row['OrderID'], row['SkuID'], row['Quantity']) )\n",
    "cursor.commit()"
   ]
  },
  {
   "cell_type": "markdown",
   "id": "16d7a386",
   "metadata": {},
   "source": [
    "### Pickers & Transporters"
   ]
  },
  {
   "cell_type": "code",
   "execution_count": 55,
   "id": "0932f92b",
   "metadata": {},
   "outputs": [],
   "source": [
    "PcolName = 'Picker'\n",
    "TcolName = 'Transporter'\n",
    "# clear existing table\n",
    "cursor.execute(\"TRUNCATE TABLE Pickers;\")\n",
    "cursor.commit()\n",
    "# clear existing table\n",
    "cursor.execute(\"TRUNCATE TABLE Transporters;\")\n",
    "cursor.commit()\n",
    "\n",
    "\n",
    "\n",
    "# write new tables\n",
    "for i in range(PickerNum):\n",
    "    cursor.execute(\"INSERT INTO Pickers (PickerID, Picker, Speed, Capacity, PlaceTime) VALUES ({:}, '{:}', {:}, {:}, {:})\".format(i+1, 'My'+ PcolName +str(i+1), V_p, C_p, Tc_p) )\n",
    "cursor.commit()\n",
    "for i in range(TransporterNum):\n",
    "    cursor.execute(\"INSERT INTO Transporters (TransporterID, Transporter, Speed, Capacity, UnloadTime) VALUES ({:}, '{:}', {:}, {:}, {:})\".format(i+1, 'My'+ TcolName +str(i+1), V_t, C_t, Tu_t) )\n",
    "cursor.commit()"
   ]
  },
  {
   "cell_type": "code",
   "execution_count": null,
   "id": "ce57281c",
   "metadata": {},
   "outputs": [],
   "source": []
  }
 ],
 "metadata": {
  "kernelspec": {
   "display_name": "Python 3",
   "language": "python",
   "name": "python3"
  },
  "language_info": {
   "codemirror_mode": {
    "name": "ipython",
    "version": 3
   },
   "file_extension": ".py",
   "mimetype": "text/x-python",
   "name": "python",
   "nbconvert_exporter": "python",
   "pygments_lexer": "ipython3",
   "version": "3.8.10"
  }
 },
 "nbformat": 4,
 "nbformat_minor": 5
}
