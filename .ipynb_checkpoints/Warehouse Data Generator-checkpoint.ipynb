{
 "cells": [
  {
   "cell_type": "markdown",
   "metadata": {},
   "source": [
    "# Warehouse Data Generator"
   ]
  },
  {
   "cell_type": "code",
   "execution_count": null,
   "metadata": {},
   "outputs": [],
   "source": [
    "# This code is used to generate synthetic data for the SimioWarehouseSystem"
   ]
  },
  {
   "cell_type": "code",
   "execution_count": null,
   "metadata": {},
   "outputs": [],
   "source": [
    "# Input: a excel file which contains the parameter settings\n",
    "#  \\ Parameter              \\ Type                \\ Comment\n",
    "#  \\  # of orders           \\  Integer            \\\n",
    "#  \\  # of Skus             \\  Integer            \\\n",
    "#  \\  # of Locations        \\  Integer            \\\n",
    "#  \\  # of line per order   \\  String             \\ Distribution align with corresponding parameters\n",
    "#  \\  quantity per line     \\  String             \\ Distribution align with corresponding parameters\n",
    "#  \\  warehouse layout      \\  Vector             \\ Four corners coordinate value "
   ]
  },
  {
   "cell_type": "code",
   "execution_count": null,
   "metadata": {},
   "outputs": [],
   "source": [
    "# OutPut: several csv files which contain the synthetic warehouse data\n",
    "#    1. Orders.csv: \n",
    "#    2. Skus.csv:\n",
    "#    3. Order_Skus.csv:\n",
    "#    4. Locations.csv:\n",
    "#    5. Skus_Locations.csv:"
   ]
  },
  {
   "cell_type": "code",
   "execution_count": null,
   "metadata": {},
   "outputs": [],
   "source": [
    "# import associated packages\n",
    "import pandas as pd\n",
    "import numpy as np\n",
    "import random\n",
    "import datetime as dt\n",
    "from datetime import datetime\n",
    "from sklearn.utils import shuffle"
   ]
  },
  {
   "cell_type": "markdown",
   "metadata": {},
   "source": [
    "## Function definations"
   ]
  },
  {
   "cell_type": "code",
   "execution_count": null,
   "metadata": {},
   "outputs": [],
   "source": [
    "# Define the function to read from the file and return the parameter values\n",
    "#####################################################################################################################\n",
    "# Input :           FileName: The xlsx file that contains the parameter settings\n",
    "#                  SheetName: The worksheet name that contains the main parameter settings\n",
    "#            SKUWeightsSheet: The worksheet name that contains the SKU weights\n",
    "#\n",
    "# Output:    The paramter settings\n",
    "#######################################################################################################################\n",
    "def readFromExcel(FileName = 'ParameterSetting.xlsx', SheetName = 'Parameter Setting', SKUWeightsSheet = 'SKU Weights'):\n",
    "    # Read the input csv file and get the parameter settings\n",
    "    PS = pd.read_excel('ParamterSetting.xlsx',sheet_name = 'Parameter Setting')\n",
    "    SkuWeights = pd.read_excel('ParamterSetting.xlsx',sheet_name = 'SKU Weights')\n",
    "    \n",
    "    NumOrders = int(PS['Value'][PS['Name'] == 'OrderNo'].item())                     # number of orders\n",
    "    NumSKUs = int(PS['Value'][PS['Name'] == 'SkuNo'].item())                         # number of skus\n",
    "    NumLocations = int(PS['Value'][PS['Name'] == 'LocationNo'].item())                  # number of locations\n",
    "    \n",
    "    BLX = int(PS['Value'][PS['Name'] == 'BL_corner'].item())                # The bottom left corner x coordinate\n",
    "    BLZ = int(PS['Add_value1'][PS['Name'] == 'BL_corner'].item())           # The bottom left corner z coordinate\n",
    "    BRX = int(PS['Value'][PS['Name'] == 'BR_corner'].item())                # The bottom right corner x coordinate\n",
    "    BRZ = int(PS['Add_value1'][PS['Name'] == 'BR_corner'].item())           # The bottom right corner z coordinate\n",
    "    ULX = int(PS['Value'][PS['Name'] == 'UL_corner'].item())                # The top left corner x coordinate\n",
    "    ULZ = int(PS['Add_value1'][PS['Name'] == 'UL_corner'].item())           # The top left corner z coordinate\n",
    "    URX = int(PS['Value'][PS['Name'] == 'UR_corner'].item())                # The top right corner x coordinate\n",
    "    URZ = int(PS['Add_value1'][PS['Name'] == 'UR_corner'].item())           # The top right corner z coordinate\n",
    "    Bounding = [BLX, BLZ, ULX, ULZ, URX, URZ, BRX, BRZ]\n",
    "    \n",
    "    LineDist = PS['Value'][PS['Name'] == 'LineDistribution'].item()                 # The distribution for the number of lines in an order\n",
    "    LineOrderDist = getLineItemDistParas(PS, LineDist, 'LineDistribution')\n",
    "    \n",
    "    QuantityDist = PS['Value'][PS['Name'] == 'QuantityDistribution'].item()         # The distribution for the quantity in an order line\n",
    "    QuantityLineDist = getLineItemDistParas(PS, LineDist, 'QuantityDistribution')\n",
    "    \n",
    "    SKUWeights = SkuWeights['Weight'].tolist()\n",
    "    \n",
    "    return(Bounding, NumOrders, NumSKUs, SKUWeights, NumLocations, LineOrderDist, QuantityLineDist)"
   ]
  },
  {
   "cell_type": "code",
   "execution_count": null,
   "metadata": {},
   "outputs": [],
   "source": [
    "# Define the function to read the SKUWeights from a csv file\n",
    "def readSKUWeights(FileName = 'SKUWeights.csv'):\n",
    "    # code to read from csv goes here\n",
    "    return(SKUWeights)"
   ]
  },
  {
   "cell_type": "code",
   "execution_count": null,
   "metadata": {},
   "outputs": [],
   "source": [
    "# Define the function that get the paramter list corresponding to distribution and the domain name\n",
    "##################################################################################################################\n",
    "# Input :      Dataframe: The dataframe contains the distribution information\n",
    "#                   Dist: The distribution type. Default is 'Uniform'\n",
    "#             DomainName: The domain name for the distribution. Default is 'LineDistribution'\n",
    "#\n",
    "# Output:   DistParaList: A list that contains the distribution name and corresponding parameters\n",
    "##################################################################################################################\n",
    "def getLineItemDistParas(Dataframe, Dist = 'Uniform', DomainName = 'LineDistribution'):\n",
    "    if Dist == 'Uniform':\n",
    "        Min = int(Dataframe['Add_value1'][Dataframe['Name'] == DomainName].item())   # The min value in uniform distribution\n",
    "        Max = int(Dataframe['Add_value2'][Dataframe['Name'] == DomainName].item())   # The max value in uniform distribution\n",
    "    DistParaList = [Dist, Min, Max]\n",
    "    return  DistParaList"
   ]
  },
  {
   "cell_type": "code",
   "execution_count": null,
   "metadata": {},
   "outputs": [],
   "source": [
    "# Define the function that provides uniform distribution decimal or integer value\n",
    "###################################################################################################################\n",
    "# Input :          IsInt: indicate return integer value or float value. Default value is true\n",
    "#                    Min: the lower bound of the uniform distribution\n",
    "#                    Max: the upper bound of the uniform distribution\n",
    "#                  Digit: the decimal digit. Default value is 1\n",
    "#\n",
    "# Output:          a uniform distribution value\n",
    "####################################################################################################################\n",
    "def uniform(Min, Max,IsInt=True, Digit=1 ):\n",
    "    if IsInt == True:\n",
    "        return random.randint(Min, Max)\n",
    "    else:\n",
    "        return round(random.uniform(Min, Max), Digit)"
   ]
  },
  {
   "cell_type": "code",
   "execution_count": null,
   "metadata": {},
   "outputs": [],
   "source": [
    "# Define the function that selects rows in a dataframe based on weights list\n",
    "#####################################################################################################################\n",
    "# Input :      Population: the sample population. List\n",
    "#                 Weights: the weight value associated with the population. List. If weights=None, use uniform \n",
    "#                          distribution to select entries\n",
    "#                    Size: number of samples we want to get\n",
    "#                 Replace: whether the sample is with or without replacement\n",
    "#\n",
    "# Output:            the sample stored as a np.array \n",
    "#####################################################################################################################\n",
    "def sample(Population, Weights, Size, Replace=False):\n",
    "    if Weights:\n",
    "        return np.random.choice(a=Population, size=Size, replace=Replace, p=Weights)\n",
    "    else:\n",
    "        return np.random.choice(a=Population, size=Size, replace=Replace)"
   ]
  },
  {
   "cell_type": "code",
   "execution_count": null,
   "metadata": {},
   "outputs": [],
   "source": [
    "# Define the function that generates the initial dataframe for Order, Sku and Location\n",
    "####################################################################################################################\n",
    "# Input :     Rownumber: the number of rows in the generated dataframe\n",
    "#         DataframeType: specify the dataframe is for Order or Sku or Location. Ex. df_type = 'Order'\n",
    "#\n",
    "# Output:            df: the generated dataframe\n",
    "####################################################################################################################\n",
    "def dataframeInitial(Rownumber, DataframeType):\n",
    "    IDName = DataframeType + 'ID'\n",
    "    # Generate the order dataframe\n",
    "    df = pd.DataFrame(np.arange(0,Rownumber,1),columns=[IDName])\n",
    "    # Modify the ID to let it have proper names\n",
    "    df[IDName] = df[IDName].apply(lambda x: DataframeType+ str(x))\n",
    "    return df"
   ]
  },
  {
   "cell_type": "code",
   "execution_count": null,
   "metadata": {},
   "outputs": [],
   "source": [
    "# Define the function that generates the initial dataframe for Order_Sku \n",
    "#####################################################################################################################\n",
    "# Input :       OrderDataframe: the initial order dataframe\n",
    "#                 SKUDataframe: the initial sku dataframe\n",
    "#                   SKUWeights: the weight values for skus\n",
    "#                LineOrderDist: the parameter list for the distribution of the number of lines in an order. \n",
    "#             QuantityLineDist: the parameter list for the distribution of the sku quantity in an order line. \n",
    "#\n",
    "# Output:              df: the order_sku dataframe\n",
    "######################################################################################################################\n",
    "def dataframeOrderSKUInitial(OrderDataframe, SKUDataframe, SKUWeights, LineOrderDist, QuantityLineDist):\n",
    "    NumOrder = len(OrderDataframe)\n",
    "    ColNames = ['OrderID','SkuID','Quantity']\n",
    "    df = pd.DataFrame(columns = ColNames)\n",
    "    Population = SKUDataframe['SkuID'].tolist()\n",
    "    for i in range(NumOrder):\n",
    "        # get the lines for the ith order\n",
    "        if LineOrderDist[0] == 'Uniform':\n",
    "            Line = uniform(LineOrderDist[1], LineOrderDist[2])\n",
    "        # create rows associated with the order\n",
    "        df = df.append([OrderDataframe.iloc[i]]*Line,ignore_index=True)\n",
    "        # assign SkuID for each row\n",
    "        df['SkuID'][-Line:] =  sample(Population, SKUWeights, Line)\n",
    "    # assign Sku quantities for each row\n",
    "    df['Quantity'] = 0\n",
    "    if QuantityLineDist[0] == 'Uniform':\n",
    "        df['Quantity'] = df['Quantity'].apply(lambda x: uniform(QuantityLineDist[1], QuantityLineDist[2]))\n",
    "    return df"
   ]
  },
  {
   "cell_type": "code",
   "execution_count": null,
   "metadata": {},
   "outputs": [],
   "source": [
    "# Define the function that generates the initial dataframe for Sku_Location\n",
    "##########################################################################################################################\n",
    "# Input :           SKUDataframe: the initial sku dataframe\n",
    "#              LocationDataframe: the initial location dataframe\n",
    "#                        Weights: he weight value associated with the population. List. If Weights=None, use uniform \n",
    "#                                 distribution to select entries\n",
    "#                           Rule: the matching Rule for skus and locations. four Rules can be selected:\n",
    "#                                   'oto': each sku can only be placed in one location and each location can only hold one sku\n",
    "#                                   'otm': each sku can be placed in multiple locations but each location can only hold one sku\n",
    "#                                   'mto': each sku can only be placed in one location but each location can hold multiple skus\n",
    "#                                   'mtm': each sku can be placed in multiple locations and each location can hold multiple skus\n",
    "#\n",
    "# Output:                     df: the initial sku-location dataframe      \n",
    "###########################################################################################################################\n",
    "def dataframeSKULocationInitial(SKUDataframe, LocationDataframe, Weights=[], Rule='oto'):\n",
    "    if Rule == 'oto':\n",
    "        # each sku can only be placed in one location and each location can only hold one sku\n",
    "        if len(SKUDataframe) > len(LocationDataframe):\n",
    "            print('The number of Skus cannot be greater than the number of Locations in One_to_One Rule ')\n",
    "            return\n",
    "        df = SKUDataframe.copy()\n",
    "        ColName = 'LocationID'\n",
    "        Replace = False\n",
    "        Population = LocationDataframe['LocationID'].tolist()\n",
    "    elif Rule == 'otm':\n",
    "        # each sku can be placed in multiple locations but each location can only hold one sku\n",
    "        df = LocationDataframe.copy()\n",
    "        ColName = 'SkuID'\n",
    "        Replace = True\n",
    "        Population = SKUDataframe['SkuID'].tolist()\n",
    "    elif Rule == 'mto':\n",
    "        # each sku can only be placed in one location but each location can hold multiple skus\n",
    "        df = SKUDataframe.copy()\n",
    "        ColName = 'LocationID'\n",
    "        Replace = True\n",
    "        Population = LocationDataframe['LocationID'].tolist()\n",
    "    elif Rule == 'mtm':       \n",
    "        # each sku can be placed in multiple locations and each location can hold multiple skus\n",
    "        column_names = ['SkuID','LocationID']\n",
    "        df = pd.DataFrame(columns = column_names)\n",
    "        # TBD\n",
    "    else:\n",
    "        print('Rule is not recognized,please check the Rule parameter.')\n",
    "        \n",
    "    NumRows = len(df)\n",
    "    df[ColName] = sample(Population, Weights, NumRows, Replace)\n",
    "    \n",
    "    return df\n",
    "    "
   ]
  },
  {
   "cell_type": "code",
   "execution_count": null,
   "metadata": {},
   "outputs": [],
   "source": [
    "# Define the function that generates a list of datetime(YYYY-MM-DD HH:MM:SS)\n",
    "##########################################################################################################################\n",
    "# Input :             Size: the returned list Size\n",
    "#                Startdate: the start date. Format 'MM/DD/YYYY HH:MM:SS'\n",
    "#                  Enddate: the end date. Format 'MM/DD/YYYY HH:MM:SS'\n",
    "#                 TimeRule: specify the time in a date. Can be 'fixed' or 'random'.\n",
    "#\n",
    "# Output:        DateList: the return datetime list\n",
    "##########################################################################################################################\n",
    "def datatimeGenerator(Size, Startdate='09/05/2020 00:00:00',Enddate='20/05/2020 00:00:00', TimeRule='fixed'):\n",
    "    Start = datetime.strptime( Startdate,'%d/%m/%Y %H:%M:%S')\n",
    "    End = datetime.strptime( Enddate,'%d/%m/%Y %H:%M:%S')\n",
    "    # get the zero time (00:00:00)\n",
    "    ZeroTime = datetime(2019,8,10,0,0,0).time()\n",
    "    AdjustDate = datetime.combine(Start.date(),ZeroTime)\n",
    "    DaysBetweenDates = (End-Start).days\n",
    "    DateList = sample(range(DaysBetweenDates),Weights=[], Size=Size, Replace=True).tolist()\n",
    "    DateList.sort()\n",
    "    for i in range(Size):\n",
    "        if TimeRule == 'fixed':\n",
    "            DateList[i] = Start + dt.timedelta(days=DateList[i])\n",
    "        elif TimeRule == 'random':\n",
    "            DateList[i] = AdjustDate + dt.timedelta(days=DateList[i], seconds=random.randrange(86400))\n",
    "        else:\n",
    "            print('Cannot recognize the TimeRule parameter, please check it.')\n",
    "    return DateList"
   ]
  },
  {
   "cell_type": "markdown",
   "metadata": {},
   "source": [
    "## Get the paramters"
   ]
  },
  {
   "cell_type": "code",
   "execution_count": null,
   "metadata": {},
   "outputs": [],
   "source": [
    "# whether you want to use external file to pass parameters\n",
    "External = True"
   ]
  },
  {
   "cell_type": "code",
   "execution_count": null,
   "metadata": {},
   "outputs": [],
   "source": [
    "if not External:\n",
    "    # Set initial values (in case you don't want to use the xlsx file)\n",
    "    Bounding     = [0, 0, 0, 1000, 1000, 1000, 1000, 0]\n",
    "    # 0 - BLx; 1 - BLz; 2 - ULx, etc (going around clockwise - BL, UL, UR, BR)\n",
    "    NumOrders    = 1000\n",
    "    NumSKUs      = 20000 # Generate an error if the number of SKUs exceeds the number of locations\n",
    "    SKUWeights   = [] # if empty, all equally likely.  If not empty, verify that the numbers work\n",
    "    NumLocations = 20000\n",
    "    LineOrderDist = ['Uniform', 1, 10]\n",
    "    QuantityLineDist = ['Uniform', 1,  5]\n",
    "else:\n",
    "    [Bounding, NumOrders, NumSKUs, SKUWeights, NumLocations, LineOrderDist, QuantityLineDist] = readFromExcel(FileName = 'ParameterSetting.xlsx', SheetName = 'Parameter Setting', SKUWeightsSheet = 'SKU Weights')\n",
    "# For the random generation, you should have a single function to generate Uniform variates and just pass\n",
    "# the min,max as parameters.  If we change distributions, we can then just create a separate function base\n",
    "# on the type"
   ]
  },
  {
   "cell_type": "markdown",
   "metadata": {},
   "source": [
    "## Generate initial dataframes"
   ]
  },
  {
   "cell_type": "code",
   "execution_count": null,
   "metadata": {},
   "outputs": [],
   "source": [
    "# Generate the order, sku and location initial dataframe\n",
    "OrderInitial = dataframeInitial(NumOrders,'Order')\n",
    "SKUInitial = dataframeInitial(NumSKUs, 'Sku')\n",
    "LocationInitial = dataframeInitial(NumLocations,'Location')\n",
    "# OrderInitial.head()\n",
    "# SKUInitial.head()\n",
    "# LocationInitial.head()"
   ]
  },
  {
   "cell_type": "code",
   "execution_count": null,
   "metadata": {},
   "outputs": [],
   "source": [
    "# Generate the initial order-sku dataframe\n",
    "OrderSKUInitial = dataframeOrderSKUInitial(OrderInitial,SKUInitial,SKUWeights, LineOrderDist, QuantityLineDist)\n",
    "# Order_Sku_df.head()"
   ]
  },
  {
   "cell_type": "code",
   "execution_count": null,
   "metadata": {},
   "outputs": [],
   "source": [
    "# Generate the initial sku-location dataframe\n",
    "SKULocationInitial = dataframeSKULocationInitial(SKUInitial, LocationInitial,Rule='oto')\n",
    "# Sku_LocationInitial.head()"
   ]
  },
  {
   "cell_type": "markdown",
   "metadata": {},
   "source": [
    "## Complete dataframes"
   ]
  },
  {
   "cell_type": "markdown",
   "metadata": {},
   "source": [
    "### Complete Order dataframe"
   ]
  },
  {
   "cell_type": "code",
   "execution_count": null,
   "metadata": {},
   "outputs": [],
   "source": [
    "# Temperory order dataframe\n",
    "OrderTemperoryDataframe = OrderInitial"
   ]
  },
  {
   "cell_type": "code",
   "execution_count": null,
   "metadata": {},
   "outputs": [],
   "source": [
    "# Add release date column\n",
    "ColName = 'ReleaseDate'\n",
    "ReleaseList = datatimeGenerator(NumOrders, Startdate='09/05/2020 00:00:00',Enddate='20/05/2020 00:00:00')\n",
    "OrderTemperoryDataframe[ColName] = ReleaseList"
   ]
  },
  {
   "cell_type": "code",
   "execution_count": null,
   "metadata": {},
   "outputs": [],
   "source": [
    "# Add due date column\n",
    "ColName = 'DueDate'\n",
    "DueList = datatimeGenerator(NumOrders,Startdate='11/05/2020 23:59:59',Enddate='22/05/2020 23:59:59')\n",
    "OrderTemperoryDataframe[ColName] = DueList"
   ]
  },
  {
   "cell_type": "code",
   "execution_count": null,
   "metadata": {},
   "outputs": [],
   "source": [
    "# Final order dataframe\n",
    "OrderFinialDataframe = OrderTemperoryDataframe"
   ]
  },
  {
   "cell_type": "markdown",
   "metadata": {},
   "source": [
    "### Complete Sku dataframe"
   ]
  },
  {
   "cell_type": "code",
   "execution_count": null,
   "metadata": {},
   "outputs": [],
   "source": [
    "# Temperory sku dataframe\n",
    "SKUTemperoryDataframe = SKUInitial"
   ]
  },
  {
   "cell_type": "code",
   "execution_count": null,
   "metadata": {},
   "outputs": [],
   "source": [
    "# Add volumn column\n",
    "ColName = 'Volumn'\n",
    "VolumnArray = sample(range(10),Weights=[], Size=NumSKUs, Replace=True)\n",
    "SKUTemperoryDataframe[ColName] = VolumnArray"
   ]
  },
  {
   "cell_type": "code",
   "execution_count": null,
   "metadata": {},
   "outputs": [],
   "source": [
    "# Add weight column\n",
    "ColName = 'Weight'\n",
    "SKUTemperoryDataframe[ColName] = 0\n",
    "SKUTemperoryDataframe[ColName] = SKUTemperoryDataframe[ColName].apply(lambda x: uniform(5, 10,IsInt=False, Digit=1 ))"
   ]
  },
  {
   "cell_type": "code",
   "execution_count": null,
   "metadata": {},
   "outputs": [],
   "source": [
    "# Final sku dataframe\n",
    "SKUFinalDataframe = SKUTemperoryDataframe "
   ]
  },
  {
   "cell_type": "markdown",
   "metadata": {},
   "source": [
    "### Complete Location dataframe"
   ]
  },
  {
   "cell_type": "code",
   "execution_count": null,
   "metadata": {},
   "outputs": [],
   "source": [
    "# Temperory location dataframe\n",
    "LocationTemperoryDataframe = LocationInitial"
   ]
  },
  {
   "cell_type": "code",
   "execution_count": null,
   "metadata": {},
   "outputs": [],
   "source": [
    "# Add X-coordinate value column\n",
    "ColName = 'Xloc'\n",
    "LocationTemperoryDataframe[ColName] = 0.0\n",
    "LocationTemperoryDataframe[ColName] = LocationTemperoryDataframe[ColName].apply(lambda x: uniform(Bounding[0], Bounding[6],IsInt=False, Digit=1 ))"
   ]
  },
  {
   "cell_type": "code",
   "execution_count": null,
   "metadata": {},
   "outputs": [],
   "source": [
    "# Add Z-coordinate value column\n",
    "ColName = 'Zloc'\n",
    "LocationTemperoryDataframe[ColName] = 0.0\n",
    "LocationTemperoryDataframe[ColName] = LocationTemperoryDataframe[ColName].apply(lambda x: uniform(Bounding[1], Bounding[3],IsInt=False, Digit=1 ))"
   ]
  },
  {
   "cell_type": "code",
   "execution_count": null,
   "metadata": {},
   "outputs": [],
   "source": [
    "# Final Location dataframe\n",
    "LocationFinalDataframe = LocationTemperoryDataframe"
   ]
  },
  {
   "cell_type": "markdown",
   "metadata": {},
   "source": [
    "### Complete Order_Sku dataframe"
   ]
  },
  {
   "cell_type": "code",
   "execution_count": null,
   "metadata": {},
   "outputs": [],
   "source": [
    "# Temperory order_sku dataframe\n",
    "OrderSKUTemperoryDataframe = OrderSKUInitial"
   ]
  },
  {
   "cell_type": "code",
   "execution_count": null,
   "metadata": {},
   "outputs": [],
   "source": [
    "# Final order_sku dataframe\n",
    "OrderSKUFinalDataframe = OrderSKUTemperoryDataframe"
   ]
  },
  {
   "cell_type": "markdown",
   "metadata": {},
   "source": [
    "### Complete Sku_Location dataframe"
   ]
  },
  {
   "cell_type": "code",
   "execution_count": null,
   "metadata": {},
   "outputs": [],
   "source": [
    "# Temperory sku_location dataframe\n",
    "SKULocationTemperoryDataframe = SKULocationInitial"
   ]
  },
  {
   "cell_type": "code",
   "execution_count": null,
   "metadata": {},
   "outputs": [],
   "source": [
    "# Final sku_location dataframe\n",
    "SKULocationFinalDataframe = SKULocationTemperoryDataframe"
   ]
  },
  {
   "cell_type": "code",
   "execution_count": null,
   "metadata": {},
   "outputs": [],
   "source": []
  },
  {
   "cell_type": "markdown",
   "metadata": {},
   "source": [
    "## Output the csv files"
   ]
  },
  {
   "cell_type": "code",
   "execution_count": null,
   "metadata": {},
   "outputs": [],
   "source": [
    "# Output dataframes to csv files\n",
    "OrderFinialDataframe.to_csv('Orders.csv',index=False)\n",
    "SKUFinalDataframe.to_csv('Skus.csv',index=False)\n",
    "LocationFinalDataframe.to_csv('Locations.csv',index=False)\n",
    "OrderSKUFinalDataframe.to_csv('Order_Sku.csv',index=False)\n",
    "SKULocationFinalDataframe.to_csv('Sku_Location.csv',index=False)"
   ]
  },
  {
   "cell_type": "code",
   "execution_count": null,
   "metadata": {},
   "outputs": [],
   "source": []
  },
  {
   "cell_type": "code",
   "execution_count": null,
   "metadata": {},
   "outputs": [],
   "source": []
  }
 ],
 "metadata": {
  "kernelspec": {
   "display_name": "Python 3",
   "language": "python",
   "name": "python3"
  },
  "language_info": {
   "codemirror_mode": {
    "name": "ipython",
    "version": 3
   },
   "file_extension": ".py",
   "mimetype": "text/x-python",
   "name": "python",
   "nbconvert_exporter": "python",
   "pygments_lexer": "ipython3",
   "version": "3.6.5"
  }
 },
 "nbformat": 4,
 "nbformat_minor": 2
}
