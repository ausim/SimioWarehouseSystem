{
 "cells": [
  {
   "cell_type": "markdown",
   "metadata": {},
   "source": [
    "# Warehouse Data Generator"
   ]
  },
  {
   "cell_type": "code",
   "execution_count": null,
   "metadata": {},
   "outputs": [],
   "source": [
    "# This code is used to generate synthetic data for the SimioWarehouseSystem"
   ]
  },
  {
   "cell_type": "code",
   "execution_count": null,
   "metadata": {},
   "outputs": [],
   "source": [
    "# Input: a excel file which contains the parameter settings\n",
    "#  \\ Parameter              \\ Type                \\ Comment\n",
    "#  \\  # of orders           \\  Integer            \\\n",
    "#  \\  # of Skus             \\  Integer            \\\n",
    "#  \\  # of Locations        \\  Integer            \\\n",
    "#  \\  # of line per order   \\  String             \\ Distribution align with corresponding parameters\n",
    "#  \\  quantity per line     \\  String             \\ Distribution align with corresponding parameters\n",
    "#  \\  warehouse layout      \\  Vector             \\ Four corners coordinate value "
   ]
  },
  {
   "cell_type": "code",
   "execution_count": null,
   "metadata": {},
   "outputs": [],
   "source": [
    "# OutPut: several csv files which contain the synthetic warehouse data\n",
    "#    1. Orders.csv: \n",
    "#    2. Skus.csv:\n",
    "#    3. Order_Skus.csv:\n",
    "#    4. Locations.csv:\n",
    "#    5. Skus_Locations.csv:"
   ]
  },
  {
   "cell_type": "code",
   "execution_count": null,
   "metadata": {},
   "outputs": [],
   "source": [
    "# import associated packages\n",
    "import pandas as pd\n",
    "import numpy as np\n",
    "import random\n",
    "import datetime as dt\n",
    "from datetime import datetime\n",
    "from sklearn.utils import shuffle"
   ]
  },
  {
   "cell_type": "markdown",
   "metadata": {},
   "source": [
    "## Get paramters from the input file"
   ]
  },
  {
   "cell_type": "markdown",
   "metadata": {},
   "source": [
    "<b>New Stuff Here</b>"
   ]
  },
  {
   "cell_type": "code",
   "execution_count": null,
   "metadata": {},
   "outputs": [],
   "source": [
    "# Set initial values (in case you don't want to use the xlsx file)\n",
    "Bounding     = [0, 0, 0, 100, 1000, 1000, 1000, 0]\n",
    "# 0 - BLx; 1 - BLz; 2 - ULx, etc (going around clockwise - BL, UL, UR, BR)\n",
    "NumOrders    = 1000\n",
    "NumSKUs      = 20000 # Generate an error if the number of SKUs exceeds the number of locations\n",
    "SKUWeights   = [] # if empty, all equally likely.  If not empty, verify that the numbers work\n",
    "NumLocations = 20000\n",
    "LineItemDist = ['Uniform', 1, 10]\n",
    "QuantityDist = ['Uniform', 1,  5]\n",
    "# For the random generation, you should have a single function to generate Uniform variates and just pass\n",
    "# the min,max as parameters.  If we change distributions, we can then just create a separate function base\n",
    "# on the type"
   ]
  },
  {
   "cell_type": "code",
   "execution_count": null,
   "metadata": {},
   "outputs": [],
   "source": [
    "# Create a function to read from the file and return the parameter values\n",
    "def readFromExcel(FileName = 'ParameterSetting.xlsx', SheetName = 'Parameter Setting', SKUWeightsSheet = 'SKU Weights'):\n",
    "    # code to read goes here\n",
    "    return(Bounding, NumOrders, NumSKUs, SKUWeigthts, NumLocations, LineItemDist, QuantityDist)"
   ]
  },
  {
   "cell_type": "code",
   "execution_count": null,
   "metadata": {},
   "outputs": [],
   "source": [
    "# Create a function to read the SKUWeights from a csv file\n",
    "def readSKUWeights(FileName = 'SKUWeights.csv'):\n",
    "    # code to read from csv goes here\n",
    "    return(SKUWeights)"
   ]
  },
  {
   "cell_type": "markdown",
   "metadata": {},
   "source": [
    "<b>End of New Stuff</b>"
   ]
  },
  {
   "cell_type": "code",
   "execution_count": null,
   "metadata": {},
   "outputs": [],
   "source": [
    "# Read the input csv file and get the parameter settings\n",
    "PS = pd.read_excel('ParamterSetting.xlsx',sheet_name = 'Parameter Setting')\n",
    "Sku_weights = pd.read_excel('ParamterSetting.xlsx',sheet_name = 'SKU Weights')"
   ]
  },
  {
   "cell_type": "code",
   "execution_count": null,
   "metadata": {},
   "outputs": [],
   "source": [
    "# Get the main parameter settings\n",
    "Order_No = int(PS['Value'][PS['Name'] == 'OrderNo'].item())                     # number of orders\n",
    "Sku_No = int(PS['Value'][PS['Name'] == 'SkuNo'].item())                         # number of skus\n",
    "Locat_No = int(PS['Value'][PS['Name'] == 'LocationNo'].item())                  # number of locations\n",
    "Line_Dist = PS['Value'][PS['Name'] == 'LineDistribution'].item()                 # The distribution for the number of lines in an order\n",
    "Quantity_Dist = PS['Value'][PS['Name'] == 'QuantityDistribution'].item()         # The distribution for the quantity in an order line\n",
    "BL_corner_x = int(PS['Value'][PS['Name'] == 'BL_corner'].item())                # The bottom left corner x coordinate\n",
    "BL_corner_z = int(PS['Add_value1'][PS['Name'] == 'BL_corner'].item())           # The bottom left corner z coordinate\n",
    "BR_corner_x = int(PS['Value'][PS['Name'] == 'BR_corner'].item())                # The bottom right corner x coordinate\n",
    "BR_corner_z = int(PS['Add_value1'][PS['Name'] == 'BR_corner'].item())           # The bottom right corner z coordinate\n",
    "TL_corner_x = int(PS['Value'][PS['Name'] == 'TL_corner'].item())                # The top left corner x coordinate\n",
    "TL_corner_z = int(PS['Add_value1'][PS['Name'] == 'TL_corner'].item())           # The top left corner z coordinate\n",
    "TR_corner_x = int(PS['Value'][PS['Name'] == 'TR_corner'].item())                # The top right corner x coordinate\n",
    "TR_corner_z = int(PS['Add_value1'][PS['Name'] == 'TR_corner'].item())           # The top right corner z coordinate"
   ]
  },
  {
   "cell_type": "code",
   "execution_count": null,
   "metadata": {},
   "outputs": [],
   "source": [
    "# Get associated additional paramters with the line distribution \n",
    "if Line_Dist == 'Uniform':\n",
    "    Line_min = int(PS['Add_value1'][PS['Name'] == 'LineDistribution'].item())   # The min value in uniform distribution\n",
    "    Line_max = int(PS['Add_value2'][PS['Name'] == 'LineDistribution'].item())   # The max value in uniform distribution"
   ]
  },
  {
   "cell_type": "code",
   "execution_count": null,
   "metadata": {},
   "outputs": [],
   "source": [
    "# Get associated additional parameters with the quantity distribution \n",
    "if Quantity_Dist == 'Uniform':\n",
    "    Quantity_min = int(PS['Add_value1'][PS['Name'] == 'QuantityDistribution'].item())       # The min value in uniform distribution\n",
    "    Quantity_max = int(PS['Add_value2'][PS['Name'] == 'QuantityDistribution'].item())       # The max value in uniform distribution"
   ]
  },
  {
   "cell_type": "markdown",
   "metadata": {},
   "source": [
    "## Function definations"
   ]
  },
  {
   "cell_type": "code",
   "execution_count": null,
   "metadata": {},
   "outputs": [],
   "source": [
    "# Define the function that provides uniform distribution decimal or integer value\n",
    "###################################################################################################################\n",
    "# Input :         is_int: indicate return integer value or float value. Default value is true\n",
    "#                  v_min: the lower bound of the uniform distribution\n",
    "#                  v_max: the upper bound of the uniform distribution\n",
    "#                  digit: the decimal digit. Default value is 1\n",
    "#\n",
    "# Output:          a uniform distribution value\n",
    "####################################################################################################################\n",
    "def Uniform(v_min, v_max,is_int=True, digit=1 ):\n",
    "    if is_int == True:\n",
    "        return random.randint(v_min, v_max)\n",
    "    else:\n",
    "        return round(random.uniform(v_min, v_max), digit)"
   ]
  },
  {
   "cell_type": "code",
   "execution_count": null,
   "metadata": {},
   "outputs": [],
   "source": [
    "# Define the function that generates the number of lines in an order\n",
    "###################################################################################################################\n",
    "# Input :      line_dist: the distribution character of the number of lines in an order. Default is 'Uniform'\n",
    "#              addional1: corresponding first parameter for the certain line_dist. If line_dist='Uniform', \n",
    "#                         this is lower bound\n",
    "#              addional2: corresponding second parameter for the certain line_dist. If line_dist='Uniform', \n",
    "#                         this is upper bound \n",
    "#              addional3: corresponding third parameter for the certain line_dist \n",
    "#\n",
    "# Output:     line_count: the number of lines in an order  \n",
    "###################################################################################################################\n",
    "def Lines_Per_Order(line_dist='Uniform', addional1=None, addional2= None, addional3=None):\n",
    "    if line_dist == 'Uniform':\n",
    "            line_count = Uniform(addional1,addional2)\n",
    "    return line_count"
   ]
  },
  {
   "cell_type": "code",
   "execution_count": null,
   "metadata": {},
   "outputs": [],
   "source": [
    "# Define the function that selects rows in a dataframe\n",
    "#####################################################################################################################\n",
    "# Input :      population: the sample population. List\n",
    "#                 weights: the weight value associated with the population. List. If weights=None, use uniform \n",
    "#                          distribution to select entries\n",
    "#                    size: number of samples we want to get\n",
    "#                 replace: whether the sample is with or without replacement\n",
    "#\n",
    "# Output:            the sample stored as a np.array \n",
    "#####################################################################################################################\n",
    "def Sample(population, weights, size, replace=False):\n",
    "    return np.random.choice(a=population, size=size, replace=replace, p=weights)"
   ]
  },
  {
   "cell_type": "code",
   "execution_count": null,
   "metadata": {},
   "outputs": [],
   "source": [
    "# Define the function that generates the sku quantity in an order line\n",
    "###################################################################################################################\n",
    "# Input :      quan_dist: the distribution character of the sku quantity in an order line. Default is 'Uniform'\n",
    "#              addional1: corresponding first parameter for the certain quan_dist. If quan_dist='Uniform', \n",
    "#                         this is lower bound\n",
    "#              addional2: corresponding second parameter for the certain quan_dist. If quan_dist='Uniform', \n",
    "#                         this is upper bound \n",
    "#              addional3: corresponding third parameter for the certain quan_dist\n",
    "#\n",
    "# Output:       quantity: the number of sku quantity in an order line \n",
    "###################################################################################################################\n",
    "def Quantity_Per_Line(quan_dist='Uniform', addional1=None, addional2= None, addional3=None):\n",
    "    if quan_dist == 'Uniform':\n",
    "        quantity = Uniform(addional1,addional2)\n",
    "    return quantity"
   ]
  },
  {
   "cell_type": "code",
   "execution_count": null,
   "metadata": {},
   "outputs": [],
   "source": [
    "# Define the function that generates the initial dataframe for Order, Sku and Location\n",
    "####################################################################################################################\n",
    "# Input :     rownumber: the number of rows in the generated dataframe\n",
    "#               df_type: specify the dataframe is for Order or Sku or Location. Ex. df_type = 'Order'\n",
    "#\n",
    "# Output:            df: the generated dataframe\n",
    "####################################################################################################################\n",
    "def DF_initial(rownumber, df_type):\n",
    "    IDname = df_type + 'ID'\n",
    "    # Generate the order dataframe\n",
    "    df = pd.DataFrame(np.arange(0,rownumber,1),columns=[IDname])\n",
    "    # Modify the ID to let it have proper names\n",
    "    df[IDname] = df[IDname].apply(lambda x: df_type+ str(x))\n",
    "    return df"
   ]
  },
  {
   "cell_type": "code",
   "execution_count": null,
   "metadata": {},
   "outputs": [],
   "source": [
    "# Define the function that generates the initial dataframe for Order_Sku \n",
    "#####################################################################################################################\n",
    "# Input :        order_df: the initial order dataframe\n",
    "#                  sku_df: the initial sku dataframe\n",
    "#             sku_weights: the weight values for skus\n",
    "#               line_dist: the distribution character of the number of lines in an order. Default is 'Uniform'\n",
    "#               line_add1: corresponding first parameter for the certain line_dist \n",
    "#               line_add2: corresponding second parameter for the certain line_dist \n",
    "#               line_add3: corresponding third parameter for the certain line_dist \n",
    "#               quan_dist: the distribution character of the sku quantity in an order line. Default is 'Uniform'\n",
    "#               quan_add1: corresponding first parameter for the certain quan_dist \n",
    "#               quan_add2: corresponding second parameter for the certain quan_dist \n",
    "#               quan_add3: corresponding third parameter for the certain quan_dist\n",
    "#\n",
    "# Output:              df: the order_sku dataframe\n",
    "######################################################################################################################\n",
    "def DF_Order_Sku_initial(order_df, sku_df, sku_weights=None, line_dist='Uniform', line_add1=None, line_add2=None, line_add3=None, quan_dist='Uniform', quan_add1=None, quan_add2=None, quan_add3=None):\n",
    "    order_no = len(order_df)\n",
    "    column_names = ['OrderID','SkuID','Quantity']\n",
    "    df = pd.DataFrame(columns = column_names)\n",
    "    population = sku_df['SkuID'].tolist()\n",
    "    if sku_weights is None:\n",
    "        weights = sku_weights\n",
    "    else:\n",
    "        weights = sku_weights['Weight'].tolist()\n",
    "    for i in range(order_no):\n",
    "        # get the lines for the ith order\n",
    "        line = Lines_Per_Order(line_dist, line_add1,line_add2)\n",
    "        # create rows associated with the order\n",
    "        df = df.append([order_df.iloc[i]]*line,ignore_index=True)\n",
    "        # assign SkuID for each row\n",
    "        df['SkuID'][-line:] =  Sample(population, weights, line)\n",
    "    # assign Sku quantities for each row\n",
    "    df['Quantity'] = 0\n",
    "    df['Quantity'] = df['Quantity'].apply(lambda x: Quantity_Per_Line('Uniform', quan_add1, quan_add2))\n",
    "    return df"
   ]
  },
  {
   "cell_type": "code",
   "execution_count": null,
   "metadata": {},
   "outputs": [],
   "source": [
    "# Define the function that generates the initial dataframe for Sku_Location\n",
    "##########################################################################################################################\n",
    "# Input :         sku_df: the initial sku dataframe\n",
    "#            location_df: the initial location dataframe\n",
    "#                weights: he weight value associated with the population. List. If weights=None, use uniform \n",
    "#                         distribution to select entries\n",
    "#                   rule: the matching rule for skus and locations. four rules can be selected:\n",
    "#                            'oto': each sku can only be placed in one location and each location can only hold one sku\n",
    "#                            'otm': each sku can be placed in multiple locations but each location can only hold one sku\n",
    "#                            'mto': each sku can only be placed in one location but each location can hold multiple skus\n",
    "#                            'mtm': each sku can be placed in multiple locations and each location can hold multiple skus\n",
    "#\n",
    "# Output:             df: the initial sku-location dataframe      \n",
    "###########################################################################################################################\n",
    "def DF_Sku_Location_initial(sku_df, location_df, weights=None, rule='oto'):\n",
    "    if rule == 'oto':\n",
    "        # each sku can only be placed in one location and each location can only hold one sku\n",
    "        if len(sku_df) > len(location_df):\n",
    "            print('The number of Skus cannot be greater than the number of Locations in One_to_One rule ')\n",
    "            return\n",
    "        df = sku_df.copy()\n",
    "        row_no = len(df)\n",
    "        col_name = 'LocationID'\n",
    "        replace = False\n",
    "        population = location_df['LocationID'].tolist()\n",
    "    elif rule == 'otm':\n",
    "        # each sku can be placed in multiple locations but each location can only hold one sku\n",
    "        df = location_df\n",
    "        col_name = 'SkuID'\n",
    "        replace = True\n",
    "        population = sku_df['SkuID'].tolist()\n",
    "    elif rule == 'mto':\n",
    "        # each sku can only be placed in one location but each location can hold multiple skus\n",
    "        df = sku_df\n",
    "        col_name = 'LocationID'\n",
    "        replace = True\n",
    "        population = location_df['LocationID'].tolist()\n",
    "    elif rule == 'mtm':       \n",
    "        # each sku can be placed in multiple locations and each location can hold multiple skus\n",
    "        column_names = ['SkuID','LocationID']\n",
    "        df = pd.DataFrame(columns = column_names)\n",
    "        # TBD\n",
    "    else:\n",
    "        print('Rule is not recognized,please check the rule parameter.')\n",
    "        \n",
    "    row_no = len(df)\n",
    "    df[col_name] = Sample(population, weights, row_no, replace)\n",
    "    \n",
    "    return df\n",
    "    "
   ]
  },
  {
   "cell_type": "code",
   "execution_count": null,
   "metadata": {},
   "outputs": [],
   "source": [
    "# Define the function that generates a list of datetime(YYYY-MM-DD HH:MM:SS)\n",
    "##########################################################################################################################\n",
    "# Input :             size: the returned list size\n",
    "#                startdate: the start date. Format 'MM/DD/YYYY HH:MM:SS'\n",
    "#                  enddate: the end date. Format 'MM/DD/YYYY HH:MM:SS'\n",
    "#                time_rule: specify the time in a date. Can be 'fixed' or 'random'.\n",
    "#\n",
    "# Output:        date_list: the return datetime list\n",
    "##########################################################################################################################\n",
    "def Date_Time(size, startdate='09/05/2020 00:00:00',enddate='20/05/2020 00:00:00', time_rule='fixed'):\n",
    "    start = datetime.strptime( startdate,'%d/%m/%Y %H:%M:%S')\n",
    "    end = datetime.strptime( enddate,'%d/%m/%Y %H:%M:%S')\n",
    "    # get the zero time (00:00:00)\n",
    "    zero_time = datetime(2019,8,10,0,0,0).time()\n",
    "    adjust_date = datetime.combine(start.date(),zero_time)\n",
    "    days_between_dates = (end-start).days\n",
    "    date_list = Sample(range(days_between_dates),weights=None, size=size, replace=True).tolist()\n",
    "    date_list.sort()\n",
    "    for i in range(size):\n",
    "        if time_rule == 'fixed':\n",
    "            date_list[i] = start + dt.timedelta(days=date_list[i])\n",
    "        elif time_rule == 'random':\n",
    "            date_list[i] = adjust_date + dt.timedelta(days=date_list[i], seconds=random.randrange(86400))\n",
    "        else:\n",
    "            print('Cannot recognize the time_rule parameter, please check it.')\n",
    "    return date_list"
   ]
  },
  {
   "cell_type": "markdown",
   "metadata": {},
   "source": [
    "## Generate initial dataframes"
   ]
  },
  {
   "cell_type": "code",
   "execution_count": null,
   "metadata": {},
   "outputs": [],
   "source": [
    "# Generate the order, sku and location initial dataframe\n",
    "Order_initial = DF_initial(Order_No,'Order')\n",
    "Sku_initial = DF_initial(Sku_No, 'Sku')\n",
    "Location_initial = DF_initial(Locat_No,'Location')\n",
    "# Order_initial.head()\n",
    "# Sku_initial.head()\n",
    "# Location_initial.head()"
   ]
  },
  {
   "cell_type": "code",
   "execution_count": null,
   "metadata": {},
   "outputs": [],
   "source": [
    "# Generate the initial order-sku dataframe\n",
    "Order_Sku_initial = DF_Order_Sku_initial(Order_initial,Sku_initial,Sku_weights, line_add1 = Line_min, line_add2 = Line_max, quan_add1 = Quantity_min, quan_add2 = Quantity_max)\n",
    "# Order_Sku_df.head()"
   ]
  },
  {
   "cell_type": "code",
   "execution_count": null,
   "metadata": {},
   "outputs": [],
   "source": [
    "# Generate the initial sku-location dataframe\n",
    "Sku_Location_initial = DF_Sku_Location_initial(Sku_initial, Location_initial,rule='oto')\n",
    "# Sku_Location_initial.head()"
   ]
  },
  {
   "cell_type": "markdown",
   "metadata": {},
   "source": [
    "## Complete dataframes"
   ]
  },
  {
   "cell_type": "markdown",
   "metadata": {},
   "source": [
    "### Complete Order dataframe"
   ]
  },
  {
   "cell_type": "code",
   "execution_count": null,
   "metadata": {},
   "outputs": [],
   "source": [
    "# Temperory order dataframe\n",
    "Order_temp = Order_initial"
   ]
  },
  {
   "cell_type": "code",
   "execution_count": null,
   "metadata": {},
   "outputs": [],
   "source": [
    "# Add release date column\n",
    "col_name = 'ReleaseDate'\n",
    "release_list = Date_Time(Order_No, startdate='09/05/2020 00:00:00',enddate='20/05/2020 00:00:00')\n",
    "Order_temp[col_name] = release_list"
   ]
  },
  {
   "cell_type": "code",
   "execution_count": null,
   "metadata": {},
   "outputs": [],
   "source": [
    "# Add due date column\n",
    "col_name = 'DueDate'\n",
    "due_list = Date_Time(Order_No,startdate='11/05/2020 23:59:59',enddate='22/05/2020 23:59:59')\n",
    "Order_temp[col_name] = due_list"
   ]
  },
  {
   "cell_type": "code",
   "execution_count": null,
   "metadata": {},
   "outputs": [],
   "source": [
    "# Final order dataframe\n",
    "Order_df = Order_temp"
   ]
  },
  {
   "cell_type": "markdown",
   "metadata": {},
   "source": [
    "### Complete Sku dataframe"
   ]
  },
  {
   "cell_type": "code",
   "execution_count": null,
   "metadata": {},
   "outputs": [],
   "source": [
    "# Temperory sku dataframe\n",
    "Sku_temp = Sku_initial"
   ]
  },
  {
   "cell_type": "code",
   "execution_count": null,
   "metadata": {},
   "outputs": [],
   "source": [
    "# Add volumn column\n",
    "col_name = 'Volumn'\n",
    "volumn_array = Sample(range(10),weights=None, size=Sku_No, replace=True)\n",
    "Sku_temp[col_name] = volumn_array"
   ]
  },
  {
   "cell_type": "code",
   "execution_count": null,
   "metadata": {},
   "outputs": [],
   "source": [
    "# Add weight column\n",
    "col_name = 'Weight'\n",
    "Sku_temp[col_name] = 0\n",
    "Sku_temp[col_name] = Sku_temp[col_name].apply(lambda x: Uniform(5, 10,is_int=False, digit=1 ))"
   ]
  },
  {
   "cell_type": "code",
   "execution_count": null,
   "metadata": {},
   "outputs": [],
   "source": [
    "# Final sku dataframe\n",
    "Sku_df = Sku_temp "
   ]
  },
  {
   "cell_type": "markdown",
   "metadata": {},
   "source": [
    "### Complete Location dataframe"
   ]
  },
  {
   "cell_type": "code",
   "execution_count": null,
   "metadata": {},
   "outputs": [],
   "source": [
    "# Temperory location dataframe\n",
    "Location_temp = Location_initial"
   ]
  },
  {
   "cell_type": "code",
   "execution_count": null,
   "metadata": {},
   "outputs": [],
   "source": [
    "# Add X-coordinate value column\n",
    "col_name = 'Xloc'\n",
    "Location_temp[col_name] = 0.0\n",
    "Location_temp[col_name] = Location_temp[col_name].apply(lambda x: Uniform(BL_corner_x, TR_corner_x,is_int=False, digit=1 ))"
   ]
  },
  {
   "cell_type": "code",
   "execution_count": null,
   "metadata": {},
   "outputs": [],
   "source": [
    "# Add Z-coordinate value column\n",
    "col_name = 'Zloc'\n",
    "Location_temp[col_name] = 0.0\n",
    "Location_temp[col_name] = Location_temp[col_name].apply(lambda x: Uniform(BL_corner_z, TR_corner_z,is_int=False, digit=1 ))"
   ]
  },
  {
   "cell_type": "code",
   "execution_count": null,
   "metadata": {},
   "outputs": [],
   "source": [
    "# Final Location dataframe\n",
    "Location_df = Location_temp"
   ]
  },
  {
   "cell_type": "markdown",
   "metadata": {},
   "source": [
    "### Complete Order_Sku dataframe"
   ]
  },
  {
   "cell_type": "code",
   "execution_count": null,
   "metadata": {},
   "outputs": [],
   "source": [
    "# Temperory order_sku dataframe\n",
    "Order_Sku_temp = Order_Sku_initial"
   ]
  },
  {
   "cell_type": "code",
   "execution_count": null,
   "metadata": {},
   "outputs": [],
   "source": [
    "# Final order_sku dataframe\n",
    "Order_Sku_df = Order_Sku_temp"
   ]
  },
  {
   "cell_type": "markdown",
   "metadata": {},
   "source": [
    "### Complete Sku_Location dataframe"
   ]
  },
  {
   "cell_type": "code",
   "execution_count": null,
   "metadata": {},
   "outputs": [],
   "source": [
    "# Temperory sku_location dataframe\n",
    "Sku_Location_temp = Sku_Location_initial"
   ]
  },
  {
   "cell_type": "code",
   "execution_count": null,
   "metadata": {},
   "outputs": [],
   "source": [
    "# Final sku_location dataframe\n",
    "Sku_Location_df = Sku_Location_temp"
   ]
  },
  {
   "cell_type": "code",
   "execution_count": null,
   "metadata": {},
   "outputs": [],
   "source": []
  },
  {
   "cell_type": "markdown",
   "metadata": {},
   "source": [
    "## Output the csv files"
   ]
  },
  {
   "cell_type": "code",
   "execution_count": null,
   "metadata": {},
   "outputs": [],
   "source": [
    "# Output dataframes to csv files\n",
    "Order_df.to_csv('Orders.csv',index=False)\n",
    "Sku_df.to_csv('Skus.csv',index=False)\n",
    "Location_df.to_csv('Locations.csv',index=False)\n",
    "Order_Sku_df.to_csv('Order_Sku.csv',index=False)\n",
    "Sku_Location_df.to_csv('Sku_Location.csv',index=False)"
   ]
  },
  {
   "cell_type": "code",
   "execution_count": null,
   "metadata": {},
   "outputs": [],
   "source": []
  },
  {
   "cell_type": "code",
   "execution_count": null,
   "metadata": {},
   "outputs": [],
   "source": []
  }
 ],
 "metadata": {
  "kernelspec": {
   "display_name": "Python 3",
   "language": "python",
   "name": "python3"
  },
  "language_info": {
   "codemirror_mode": {
    "name": "ipython",
    "version": 3
   },
   "file_extension": ".py",
   "mimetype": "text/x-python",
   "name": "python",
   "nbconvert_exporter": "python",
   "pygments_lexer": "ipython3",
   "version": "3.7.7"
  }
 },
 "nbformat": 4,
 "nbformat_minor": 2
}
