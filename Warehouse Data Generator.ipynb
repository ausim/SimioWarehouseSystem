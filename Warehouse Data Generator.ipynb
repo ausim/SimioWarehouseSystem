{
 "cells": [
  {
   "cell_type": "markdown",
   "metadata": {},
   "source": [
    "# Warehouse Data Generator"
   ]
  },
  {
   "cell_type": "code",
   "execution_count": 1,
   "metadata": {},
   "outputs": [],
   "source": [
    "# This code is used to generate synthetic data for the SimioWarehouseSystem"
   ]
  },
  {
   "cell_type": "code",
   "execution_count": 2,
   "metadata": {},
   "outputs": [],
   "source": [
    "# Input: a excel file which contains the parameter settings\n",
    "#  \\ Parameter              \\ Type                \\ Comment\n",
    "#  \\  # of orders           \\  Integer            \\\n",
    "#  \\  # of Skus             \\  Integer            \\\n",
    "#  \\  # of Locations        \\  Integer            \\\n",
    "#  \\  # of line per order   \\  String             \\ Distribution align with corresponding parameters\n",
    "#  \\  quantity per line     \\  String             \\ Distribution align with corresponding parameters\n",
    "#  \\  warehouse layout      \\  Vector             \\ Four corners coordinate value "
   ]
  },
  {
   "cell_type": "code",
   "execution_count": 3,
   "metadata": {},
   "outputs": [],
   "source": [
    "# OutPut: several csv files which contain the synthetic warehouse data\n",
    "#    1. Orders.csv: \n",
    "#    2. Skus.csv:\n",
    "#    3. Order_Skus.csv:\n",
    "#    4. Locations.csv:\n",
    "#    5. Skus_Locations.csv:"
   ]
  },
  {
   "cell_type": "code",
   "execution_count": 4,
   "metadata": {},
   "outputs": [],
   "source": [
    "# import associated packages\n",
    "from funcdefinations import *\n",
    "import pandas as pd\n",
    "import numpy as np\n",
    "import random\n",
    "import math\n",
    "import datetime as dt\n",
    "from datetime import datetime\n",
    "from sklearn.utils import shuffle"
   ]
  },
  {
   "cell_type": "markdown",
   "metadata": {},
   "source": [
    "## Get the paramters"
   ]
  },
  {
   "cell_type": "code",
   "execution_count": 5,
   "metadata": {},
   "outputs": [],
   "source": [
    "# whether you want to use external file to pass parameters\n",
    "External = False\n",
    "\n",
    "if not External:\n",
    "    # Set initial values (in case you don't want to use the xlsx file)\n",
    "    Bounding     = [0, 0, 0, 1000, 1000, 1000, 1000, 0]\n",
    "    # 0 - BLx; 1 - BLz; 2 - ULx, etc (going around clockwise - BL, UL, UR, BR)\n",
    "    NumOrders    = 50\n",
    "    NumSKUs      = 10 # Generate an error if the number of SKUs exceeds the number of locations\n",
    "    SKUWeights   = [] # if empty, all equally likely.  If not empty, verify that the numbers work\n",
    "    NumLocations = 24\n",
    "    LineOrderDist = ['Uniform', 1, 1]\n",
    "    QuantityLineDist = ['Uniform', 1,  5]\n",
    "    PickCoopPair = pd.read_csv('Pick_Coop_pair.csv')\n",
    "    PickerNum = 2\n",
    "    TransporterNum = 3\n",
    "else:\n",
    "    [Bounding, NumOrders, NumSKUs, SKUWeights, NumLocations, LineOrderDist, QuantityLineDist] = readFromExcel(FileName = 'ParameterSetting.xlsx', SheetName = 'Parameter Setting', SKUWeightsSheet = 'SKU Weights')\n",
    "    "
   ]
  },
  {
   "cell_type": "markdown",
   "metadata": {},
   "source": [
    "## Get the dataframes and output the csv files"
   ]
  },
  {
   "cell_type": "code",
   "execution_count": 6,
   "metadata": {},
   "outputs": [
    {
     "name": "stderr",
     "output_type": "stream",
     "text": [
      "C:\\Users\\maxvi\\OneDrive - Auburn University\\Doctor work\\Summer2020\\Github\\SimioWarehouseSystem\\funcdefinations.py:138: SettingWithCopyWarning: \n",
      "A value is trying to be set on a copy of a slice from a DataFrame\n",
      "\n",
      "See the caveats in the documentation: https://pandas.pydata.org/pandas-docs/stable/user_guide/indexing.html#returning-a-view-versus-a-copy\n",
      "  df['SkuID'][-Line:] =  sample(Population, SKUWeights, Line)\n"
     ]
    }
   ],
   "source": [
    "# Generate the initial dataframes\n",
    "InitializationParaList = [NumOrders, NumSKUs, NumLocations, SKUWeights, LineOrderDist, QuantityLineDist]\n",
    "[OrderInitial, SKUInitial, LocationInitial, OrderSKUInitial, SKULocationInitial]=dataframesInitialization(InitializationParaList)\n",
    "\n",
    "# Complete the dataframes\n",
    "# Complete the order dataframe\n",
    "FinalOrderParaList = [OrderInitial]\n",
    "OrderFinalDataframe = completeOrder(FinalOrderParaList)\n",
    "\n",
    "# Complete the sku dataframe\n",
    "FinalSKUParaList = [SKUInitial]\n",
    "SKUFinalDataframe = completeSKU(FinalSKUParaList)\n",
    "\n",
    "# Complete the location dataframe\n",
    "FinalLocationParaList = [LocationInitial, Bounding]\n",
    "LocationFinalDataframe = completeLocation(FinalLocationParaList)\n",
    "\n",
    "# Complete the order_sku dataframe\n",
    "FinalOrderSKUParaList = [OrderSKUInitial]\n",
    "OrderSKUFinalDataframe = completeOrderSKU(FinalOrderSKUParaList)\n",
    "\n",
    "# Complete the sku_location dataframe\n",
    "FinalSKULocationParaList = [SKULocationInitial, PickCoopPair]\n",
    "SKULocationFinalDataframe = completeSKULocation(FinalSKULocationParaList)\n",
    "\n",
    "# Output csv files\n",
    "# OutputCSVParaList = [OrderFinalDataframe,SKUFinalDataframe, LocationFinalDataframe, OrderSKUFinalDataframe, SKULocationFinalDataframe]\n",
    "# outputCSV(OutputCSVParaList)"
   ]
  },
  {
   "cell_type": "markdown",
   "metadata": {},
   "source": [
    "## Create schedule and route files"
   ]
  },
  {
   "cell_type": "code",
   "execution_count": 8,
   "metadata": {},
   "outputs": [
    {
     "name": "stderr",
     "output_type": "stream",
     "text": [
      "C:\\Users\\maxvi\\anaconda3\\lib\\site-packages\\pandas\\core\\indexing.py:671: SettingWithCopyWarning: \n",
      "A value is trying to be set on a copy of a slice from a DataFrame\n",
      "\n",
      "See the caveats in the documentation: https://pandas.pydata.org/pandas-docs/stable/user_guide/indexing.html#returning-a-view-versus-a-copy\n",
      "  self._setitem_with_indexer(indexer, value)\n"
     ]
    }
   ],
   "source": [
    "# create schedules and store them in OrderSkus dataframe\n",
    "sc = CoopScheduler(PickerNum, TransporterNum)\n",
    "OrderSKUFinalDataframe = sc.simple_scheduler(OrderFinalDataframe, OrderSKUFinalDataframe, 2)\n",
    "# create excel files for Simio\n",
    "# Create a Pandas Excel writer using XlsxWriter as the engine.\n",
    "writer = pd.ExcelWriter('Order_Skus.xlsx', engine='xlsxwriter')\n",
    "    \n",
    "# Write each dataframe to a different worksheet.\n",
    "OrderFinalDataframe.to_excel(writer,sheet_name = 'Orders',index=False)\n",
    "SKULocationFinalDataframe.to_excel(writer,sheet_name = 'Skus',index=False)\n",
    "OrderSKUFinalDataframe.to_excel(writer,sheet_name = 'LineItem',index=False)\n",
    "\n",
    "writer.save()"
   ]
  },
  {
   "cell_type": "code",
   "execution_count": 9,
   "metadata": {},
   "outputs": [],
   "source": [
    "# create route files for Simio\n",
    "# create routes for pickers and transporters\n",
    "sc.route_generator(OrderSKUFinalDataframe,SKULocationFinalDataframe)\n",
    "# write excel files\n",
    "# Create a Pandas Excel writer using XlsxWriter as the engine.\n",
    "writer = pd.ExcelWriter('Route.xlsx', engine='xlsxwriter')\n",
    "# Write each route to a different worksheet.\n",
    "for i in range(1, PickerNum+1):\n",
    "    pd.DataFrame({'Route': sc.routes['route_p{}'.format(i)]}).to_excel(writer, sheet_name='Picker{}'.format(i),index = False)\n",
    "for i in range(1, TransporterNum+1):\n",
    "    pd.DataFrame({'Route': sc.routes['route_t{}'.format(i)]}).to_excel(writer, sheet_name='Transporter{}'.format(i),index = False)\n",
    "\n",
    "writer.save()"
   ]
  },
  {
   "cell_type": "code",
   "execution_count": null,
   "metadata": {},
   "outputs": [],
   "source": []
  },
  {
   "cell_type": "code",
   "execution_count": null,
   "metadata": {},
   "outputs": [],
   "source": []
  }
 ],
 "metadata": {
  "kernelspec": {
   "display_name": "Python 3",
   "language": "python",
   "name": "python3"
  },
  "language_info": {
   "codemirror_mode": {
    "name": "ipython",
    "version": 3
   },
   "file_extension": ".py",
   "mimetype": "text/x-python",
   "name": "python",
   "nbconvert_exporter": "python",
   "pygments_lexer": "ipython3",
   "version": "3.8.3"
  }
 },
 "nbformat": 4,
 "nbformat_minor": 2
}
